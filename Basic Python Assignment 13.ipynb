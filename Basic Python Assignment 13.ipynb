{
 "cells": [
  {
   "cell_type": "markdown",
   "id": "81a06d4d",
   "metadata": {},
   "source": [
    "1.What advantages do Excel spreadsheets have over CSV spreadsheets?"
   ]
  },
  {
   "cell_type": "code",
   "execution_count": null,
   "id": "95074b50",
   "metadata": {},
   "outputs": [],
   "source": [
    "Ans: CSV is a plain text format, XLS is an Excel Sheets binary file format.\n",
    "\n",
    "What are the differences between CSV and XLS (Excel) file formats?\n",
    "\n",
    "The difference between CSV and XLS file formats is that CSV format is a plain text format in which values are separated by commas (Comma Separated Values), while XLS file format is an Excel Sheets binary file format which holds information about all the worksheets in a file, including both content and formatting."
   ]
  },
  {
   "cell_type": "code",
   "execution_count": null,
   "id": "5ef88911",
   "metadata": {},
   "outputs": [],
   "source": [
    "2.What do you pass to csv.reader() and csv.writer() to create reader and writer objects?"
   ]
  },
  {
   "cell_type": "markdown",
   "id": "8707b0b9",
   "metadata": {},
   "source": [
    "import csv\n",
    "with open('people.csv', 'r') as file:\n",
    "    reader = csv.reader(file)\n",
    "    for row in reader:\n",
    "        print(row)\n",
    "        \n",
    "import csv\n",
    "with open('protagonist.csv', 'w', newline='') as file:\n",
    "    writer = csv.writer(file)\n",
    "    writer.writerow([\"SN\", \"Movie\", \"Protagonist\"])\n",
    "    writer.writerow([1, \"Lord of the Rings\", \"Frodo Baggins\"])\n",
    "    writer.writerow([2, \"Harry Potter\", \"Harry Potter\"])"
   ]
  },
  {
   "cell_type": "markdown",
   "id": "05a9ba37",
   "metadata": {},
   "source": [
    "3. What modes do File objects for reader and writer objects need to be opened in?"
   ]
  },
  {
   "cell_type": "markdown",
   "id": "20160ef2",
   "metadata": {},
   "source": [
    "csv.reader () and csv.writer()"
   ]
  },
  {
   "cell_type": "markdown",
   "id": "028359d8",
   "metadata": {},
   "source": [
    "4.What method takes a list argument and writes it to a CSV file?"
   ]
  },
  {
   "cell_type": "markdown",
   "id": "6541d8c8",
   "metadata": {},
   "source": [
    "reader() module and also has two methods, i.e., writer function or the Dict Writer class. It presents two functions, i.e., writerow() and writerows(). The writerow() function only write one row, and the writerows() function write more than one row."
   ]
  },
  {
   "cell_type": "markdown",
   "id": "28174ed6",
   "metadata": {},
   "source": [
    "5.What do the keyword arguments delimiter and line terminator do?"
   ]
  },
  {
   "cell_type": "code",
   "execution_count": null,
   "id": "35b77f5b",
   "metadata": {},
   "outputs": [],
   "source": [
    "The delimiter and lineterminator Keyword Arguments\n",
    "The line terminator is the character that comes at the end of a row. By default, the line terminator is a newline. You can change characters to different values by using the delimiter and lineterminator keyword arguments with csv. writer()."
   ]
  },
  {
   "cell_type": "code",
   "execution_count": null,
   "id": "6bd8f9b6",
   "metadata": {},
   "outputs": [],
   "source": [
    "import csv\n",
    "   >>> csvFile = open('example.tsv', 'w', newline='')\n",
    "➊ >>> csvWriter = csv.writer(csvFile, delimiter='\\t', lineterminator='\\n\\n')\n",
    "   >>> csvWriter.writerow(['apples', 'oranges', 'grapes'])\n",
    "   24\n",
    "   >>> csvWriter.writerow(['eggs', 'bacon', 'ham'])\n",
    "   17\n",
    "   >>> csvWriter.writerow(['spam', 'spam', 'spam', 'spam', 'spam', 'spam'])\n",
    "   32\n",
    "   >>> csvFile.close()"
   ]
  },
  {
   "cell_type": "code",
   "execution_count": null,
   "id": "6a068dc6",
   "metadata": {},
   "outputs": [],
   "source": [
    "6. What function takes a string of JSON data and returns a Python data structure?"
   ]
  },
  {
   "cell_type": "code",
   "execution_count": null,
   "id": "afe7688b",
   "metadata": {},
   "outputs": [],
   "source": [
    "JSONDecoder class is used for deserialization of any Python object while performing decoding. It contains three different methods of decoding which are\n",
    "\n",
    "default(o) – Implemented in the subclass and return deserialized object o object.\n",
    "decode(o) – Same as json.loads() method return Python data structure of JSON string or data.\n",
    "raw_decode(o) – Represent Python dictionary one by one and decode object o."
   ]
  },
  {
   "cell_type": "code",
   "execution_count": null,
   "id": "df146e6e",
   "metadata": {},
   "outputs": [],
   "source": [
    "import json\n",
    "# import JSONDecoder class from json\n",
    "from json.decoder import JSONDecoder\n",
    "colour_string = '{ \"colour\": [\"red\", \"yellow\"]}'\n",
    "# directly called decode method of JSON\n",
    "JSONDecoder().decode(colour_string)\n",
    "Output:\n",
    "\n",
    "{'colour': ['red', 'yellow']}"
   ]
  },
  {
   "cell_type": "code",
   "execution_count": null,
   "id": "a1d375a2",
   "metadata": {},
   "outputs": [],
   "source": [
    "7. What function takes a Python data structure and returns a string of JSON data?"
   ]
  },
  {
   "cell_type": "code",
   "execution_count": null,
   "id": "10108429",
   "metadata": {},
   "outputs": [],
   "source": [
    "If you have a Python object, you can convert it into a JSON string by using the json.dumps() method."
   ]
  },
  {
   "cell_type": "code",
   "execution_count": null,
   "id": "3fe1fe06",
   "metadata": {},
   "outputs": [],
   "source": [
    "Convert from JSON to Python:\n",
    "\n",
    "import json\n",
    "\n",
    "# some JSON:\n",
    "x =  '{ \"name\":\"John\", \"age\":30, \"city\":\"New York\"}'\n",
    "\n",
    "# parse x:\n",
    "y = json.loads(x)\n",
    "\n",
    "# the result is a Python dictionary:\n",
    "print(y[\"age\"])"
   ]
  },
  {
   "cell_type": "code",
   "execution_count": null,
   "id": "5840f8d5",
   "metadata": {},
   "outputs": [],
   "source": []
  }
 ],
 "metadata": {
  "kernelspec": {
   "display_name": "Python 3 (ipykernel)",
   "language": "python",
   "name": "python3"
  },
  "language_info": {
   "codemirror_mode": {
    "name": "ipython",
    "version": 3
   },
   "file_extension": ".py",
   "mimetype": "text/x-python",
   "name": "python",
   "nbconvert_exporter": "python",
   "pygments_lexer": "ipython3",
   "version": "3.9.12"
  }
 },
 "nbformat": 4,
 "nbformat_minor": 5
}
